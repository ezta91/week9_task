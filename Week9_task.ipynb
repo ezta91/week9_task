{
 "cells": [
  {
   "cell_type": "code",
   "execution_count": 6,
   "id": "4f9b5197",
   "metadata": {},
   "outputs": [
    {
     "name": "stdout",
     "output_type": "stream",
     "text": [
      "red\n",
      "blue\n",
      "green\n"
     ]
    }
   ],
   "source": [
    "#Learning Objectives:\n",
    "\n",
    "#Understand how to group data using lists.\n",
    "#Learn about defining sequences and using lists in Python.\n",
    "#Create a list called colors with three colors (e.g., [\"red\", \"blue\", \"green\"]). Print the entire list.\n",
    "\n",
    "colors = ['red', 'blue', 'green']\n",
    "\n",
    "for color in colors:\n",
    "    print(color)"
   ]
  },
  {
   "cell_type": "code",
   "execution_count": 4,
   "id": "b90d3ac4",
   "metadata": {},
   "outputs": [
    {
     "name": "stdout",
     "output_type": "stream",
     "text": [
      "red\n"
     ]
    }
   ],
   "source": [
    "#Print the first color in your colors list.\n",
    "\n",
    "print(colors[0])"
   ]
  },
  {
   "cell_type": "code",
   "execution_count": null,
   "id": "69d90ae0",
   "metadata": {},
   "outputs": [
    {
     "name": "stdout",
     "output_type": "stream",
     "text": [
      "['red', 'blue', 'green', 'yellow']\n"
     ]
    }
   ],
   "source": [
    "#Add a new color to your colors list and print the updated list.\n",
    "\n",
    "colors.append('yellow')\n",
    "\n",
    "print(colors)"
   ]
  },
  {
   "cell_type": "code",
   "execution_count": 12,
   "id": "bc605d02",
   "metadata": {},
   "outputs": [
    {
     "name": "stdout",
     "output_type": "stream",
     "text": [
      "4\n"
     ]
    }
   ],
   "source": [
    "#Print the total number of colors in your list.\n",
    "print(len(colors))"
   ]
  },
  {
   "cell_type": "code",
   "execution_count": 15,
   "id": "af408534",
   "metadata": {},
   "outputs": [
    {
     "name": "stdout",
     "output_type": "stream",
     "text": [
      "[3, 5, 7, 11, 13, 17]\n"
     ]
    }
   ],
   "source": [
    "#Create a list of 5 numbers.\n",
    "prime = [3, 5, 7, 11, 13]\n",
    "\n",
    "#Append a number to a list.\n",
    "prime.append(17)\n",
    "print(prime)"
   ]
  },
  {
   "cell_type": "code",
   "execution_count": null,
   "id": "03b88462",
   "metadata": {},
   "outputs": [
    {
     "name": "stdout",
     "output_type": "stream",
     "text": [
      "[3, 5, 100, 100, 100, 7, 11, 13, 17]\n"
     ]
    }
   ],
   "source": [
    "#Insert a number at position 2.\n",
    "prime.insert(2, 100)\n",
    "\n",
    "print(prime)\n",
    "\n"
   ]
  },
  {
   "cell_type": "code",
   "execution_count": null,
   "id": "a34c7d08",
   "metadata": {},
   "outputs": [],
   "source": []
  },
  {
   "cell_type": "code",
   "execution_count": 66,
   "id": "d93a3d56",
   "metadata": {},
   "outputs": [
    {
     "name": "stdout",
     "output_type": "stream",
     "text": [
      "[3, 5, 100, 7, 11, 13, 17]\n"
     ]
    }
   ],
   "source": [
    "print(prime)"
   ]
  },
  {
   "cell_type": "code",
   "execution_count": null,
   "id": "7e1dfae4",
   "metadata": {},
   "outputs": [
    {
     "name": "stdout",
     "output_type": "stream",
     "text": [
      "['__add__', '__class__', '__class_getitem__', '__contains__', '__delattr__', '__delitem__', '__dir__', '__doc__', '__eq__', '__format__', '__ge__', '__getattribute__', '__getitem__', '__getstate__', '__gt__', '__hash__', '__iadd__', '__imul__', '__init__', '__init_subclass__', '__iter__', '__le__', '__len__', '__lt__', '__mul__', '__ne__', '__new__', '__reduce__', '__reduce_ex__', '__repr__', '__reversed__', '__rmul__', '__setattr__', '__setitem__', '__sizeof__', '__str__', '__subclasshook__', 'append', 'clear', 'copy', 'count', 'extend', 'index', 'insert', 'pop', 'remove', 'reverse', 'sort']\n"
     ]
    }
   ],
   "source": [
    "\n",
    "print(dir(prime))"
   ]
  },
  {
   "cell_type": "code",
   "execution_count": 67,
   "id": "51b6bf3b",
   "metadata": {},
   "outputs": [
    {
     "name": "stdout",
     "output_type": "stream",
     "text": [
      "[3, 5, 7, 11, 13, 17, 100]\n"
     ]
    }
   ],
   "source": [
    "#Sort a list in ascending order\n",
    "prime.sort()\n",
    "print(prime)"
   ]
  },
  {
   "cell_type": "code",
   "execution_count": 70,
   "id": "0c7da95f",
   "metadata": {},
   "outputs": [
    {
     "name": "stdout",
     "output_type": "stream",
     "text": [
      "The maximum number is: 100\n"
     ]
    }
   ],
   "source": [
    "#Find the max number in a list.\n",
    "max_num = prime[0]\n",
    "\n",
    "for max in prime:\n",
    "    if max > max_num:\n",
    "        max_num = max\n",
    "\n",
    "print('The maximum number is:', max_num)"
   ]
  },
  {
   "cell_type": "code",
   "execution_count": 73,
   "id": "bd27ad2e",
   "metadata": {},
   "outputs": [
    {
     "name": "stdout",
     "output_type": "stream",
     "text": [
      "The sum of the prime numbers is: 156\n"
     ]
    }
   ],
   "source": [
    "#Sum all items in a list.\n",
    "total = sum(prime)\n",
    "\n",
    "print('The sum of the prime numbers is:', total)"
   ]
  }
 ],
 "metadata": {
  "kernelspec": {
   "display_name": "Python 3",
   "language": "python",
   "name": "python3"
  },
  "language_info": {
   "codemirror_mode": {
    "name": "ipython",
    "version": 3
   },
   "file_extension": ".py",
   "mimetype": "text/x-python",
   "name": "python",
   "nbconvert_exporter": "python",
   "pygments_lexer": "ipython3",
   "version": "3.13.5"
  }
 },
 "nbformat": 4,
 "nbformat_minor": 5
}
